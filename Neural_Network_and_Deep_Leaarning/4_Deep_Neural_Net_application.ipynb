{
 "cells": [
  {
   "cell_type": "markdown",
   "id": "f0a3dec9",
   "metadata": {},
   "source": [
    "# Deep Neural Network for Image Classification: Application\n",
    "\n",
    "When you finish this, you will have finished the last programming assignment of Week 4, and also the last programming assignment of this course! \n",
    "\n",
    "You will use use the functions you'd implemented in the previous assignment to build a deep network, and apply it to cat vs non-cat classification. Hopefully, you will see an improvement in accuracy relative to your previous logistic regression implementation.  \n",
    "\n",
    "**After this assignment you will be able to:**\n",
    "- Build and apply a deep neural network to supervised learning. \n",
    "\n",
    "Let's get started!"
   ]
  },
  {
   "cell_type": "markdown",
   "id": "71e5d4a8",
   "metadata": {},
   "source": [
    "## 1 - Packages"
   ]
  },
  {
   "cell_type": "code",
   "execution_count": 23,
   "id": "37b73e88",
   "metadata": {},
   "outputs": [],
   "source": [
    "import numpy as np\n",
    "import scipy\n",
    "import matplotlib.pyplot as plt\n",
    "import h5py\n",
    "import time\n",
    "\n",
    "from PIL import Image\n",
    "from scipy import ndimage\n",
    "\n",
    "%matplotlib inline"
   ]
  },
  {
   "cell_type": "markdown",
   "id": "aecbf1f0",
   "metadata": {},
   "source": [
    "## 2 - Dataset"
   ]
  },
  {
   "cell_type": "code",
   "execution_count": 27,
   "id": "44135268",
   "metadata": {},
   "outputs": [],
   "source": [
    "train_data = h5py.File(\"train_catvnoncat.h5\",\"r\")\n",
    "train_data_x = np.array(train_data[\"train_set_x\"][:])\n",
    "train_data_y = np.array(train_data[\"train_set_y\"][:])\n",
    "\n",
    "test_data = h5py.File(\"test_catvnoncat.h5\",\"r\")\n",
    "test_data_x = np.array(test_data[\"test_set_x\"][:])\n",
    "test_data_y = np.array(test_data[\"test_set_y\"][:])\n",
    "\n",
    "classes = np.array(test_data[\"list_classes\"][:])"
   ]
  },
  {
   "cell_type": "code",
   "execution_count": 28,
   "id": "2eeda1cd",
   "metadata": {},
   "outputs": [],
   "source": [
    "train_y = train_data_y.reshape(1,train_data_y.shape[0])\n",
    "test_y = test_data_y.reshape(1,test_data_y.shape[0])"
   ]
  },
  {
   "cell_type": "markdown",
   "id": "d0795abe",
   "metadata": {},
   "source": [
    "### 2.1 Display the data"
   ]
  },
  {
   "cell_type": "code",
   "execution_count": 4,
   "id": "af7312f2",
   "metadata": {},
   "outputs": [
    {
     "name": "stdout",
     "output_type": "stream",
     "text": [
      "y label is 0 It is a non-cat\n"
     ]
    },
    {
     "data": {
      "image/png": "[encoded data removed]",
      "text/plain": [
       "<Figure size 640x480 with 1 Axes>"
      ]
     },
     "metadata": {},
     "output_type": "display_data"
    }
   ],
   "source": [
    "index = 10\n",
    "\n",
    "plt.imshow(train_data_x[index,:])\n",
    "\n",
    "print(\"y label is \"+str(train_y[0,index])+\" It is a \"+classes[int(train_y[:,index])].decode(\"utf-8\") )"
   ]
  },
  {
   "cell_type": "code",
   "execution_count": 29,
   "id": "4d18cdfb",
   "metadata": {},
   "outputs": [
    {
     "name": "stdout",
     "output_type": "stream",
     "text": [
      "Number of training examples: m_train = 209\n",
      "Number of testing examples: m_test = 50\n",
      "Height/Width of each image: num_px = 64\n",
      "\n",
      "Train x shape:  (209, 64, 64, 3)\n",
      "Train y shape:  (1, 209)\n",
      "Test x shape:  (50, 64, 64, 3)\n",
      "Test y shape:  (1, 50)\n",
      "Classes in the data:  [b'cat' b'non-cat']\n"
     ]
    }
   ],
   "source": [
    "m_train = train_data_x.shape[0]\n",
    "m_test = test_data_x.shape[0]\n",
    "num_px = train_data_x.shape[1]\n",
    "\n",
    "print (\"Number of training examples: m_train = \" + str(m_train))\n",
    "print (\"Number of testing examples: m_test = \" + str(m_test))\n",
    "print (\"Height/Width of each image: num_px = \" + str(num_px))\n",
    "print()\n",
    "print(\"Train x shape: \", train_data_x.shape)\n",
    "print(\"Train y shape: \", train_y.shape)\n",
    "print(\"Test x shape: \", test_data_x.shape)\n",
    "print(\"Test y shape: \", test_y.shape)\n",
    "print(\"Classes in the data: \",np.unique(classes))"
   ]
  },
  {
   "cell_type": "markdown",
   "id": "fde6060c",
   "metadata": {},
   "source": [
    "### 2.2 Flatten the data and Standardize the data\n",
    "Reshape images of shape (num_px, num_px, 3) in a numpy-array of shape (num_px * num_px * 3, 1). After this, our training (and test) dataset is a numpy-array where each column represents a flattened image. There should be m_train (respectively m_test) columns.\n",
    "\n",
    "**Exercise**: Reshape the training and test data sets so that images of size (num_px, num_px, 3) are flattened into single vectors of shape (num_px * num_px * 3, 1).\n",
    " \n",
    "A trick when you want to flatten a matrix X of shape (a,b,c,d) to a matrix X_flatten of shape (bcd, a) is to use:\n",
    "\n",
    "X_flatten = X.reshape(X.shape[0], -1).T      # X.T is the transpose of X\n",
    "\n",
    "\n",
    "<img src=\"images/imvectorkiank.png\" style=\"width:450px;height:300px;\">"
   ]
  },
  {
   "cell_type": "code",
   "execution_count": 30,
   "id": "0a17016f",
   "metadata": {},
   "outputs": [
    {
     "name": "stdout",
     "output_type": "stream",
     "text": [
      "Train x flattened shape:  (12288, 209)\n",
      "Test x flattened shape:  (12288, 50)\n",
      "train_x's shape: (12288, 209)\n",
      "test_x's shape: (12288, 50)\n"
     ]
    }
   ],
   "source": [
    "train_set_x_flatten = train_data_x.reshape(train_data_x.shape[0],-1).T\n",
    "test_set_x_flatten = test_data_x.reshape(test_data_x.shape[0],-1).T\n",
    "\n",
    "print(\"Train x flattened shape: \", train_set_x_flatten.shape)\n",
    "print(\"Test x flattened shape: \", test_set_x_flatten.shape)\n",
    "\n",
    "# standardize the data so the values are betwee 0 to 1\n",
    "\n",
    "train_x = train_set_x_flatten/255\n",
    "test_x = test_set_x_flatten/255\n",
    "\n",
    "print (\"train_x's shape: \" + str(train_x.shape))\n",
    "print (\"test_x's shape: \" + str(test_x.shape))"
   ]
  },
  {
   "cell_type": "markdown",
   "id": "52282ab0",
   "metadata": {},
   "source": [
    "## 3 - Architecture of your model"
   ]
  },
  {
   "cell_type": "markdown",
   "id": "9bb15999",
   "metadata": {},
   "source": [
    "Now that you are familiar with the dataset, it is time to build a deep neural network to distinguish cat images from non-cat images.\n",
    "\n",
    "You will build two different models:\n",
    "- A 2-layer neural network\n",
    "- An L-layer deep neural network\n",
    "\n",
    "You will then compare the performance of these models, and also try out different values for $L$. \n",
    "\n",
    "Let's look at the two architectures.\n",
    "\n",
    "### 3.1 - 2-layer neural network\n",
    "\n",
    "<img src=\"images/2layerNN_kiank.png\" style=\"width:650px;height:400px;\">\n",
    "<caption><center> <u>Figure 2</u>: 2-layer neural network. <br> The model can be summarized as: ***INPUT -> LINEAR -> RELU -> LINEAR -> SIGMOID -> OUTPUT***. </center></caption>\n",
    "\n",
    "<u>Detailed Architecture of figure 2</u>:\n",
    "- The input is a (64,64,3) image which is flattened to a vector of size $(12288,1)$. \n",
    "- The corresponding vector: $[x_0,x_1,...,x_{12287}]^T$ is then multiplied by the weight matrix $W^{[1]}$ of size $(n^{[1]}, 12288)$.\n",
    "- You then add a bias term and take its relu to get the following vector: $[a_0^{[1]}, a_1^{[1]},..., a_{n^{[1]}-1}^{[1]}]^T$.\n",
    "- You then repeat the same process.\n",
    "- You multiply the resulting vector by $W^{[2]}$ and add your intercept (bias). \n",
    "- Finally, you take the sigmoid of the result. If it is greater than 0.5, you classify it to be a cat.\n",
    "\n",
    "### 3.2 - L-layer deep neural network\n",
    "\n",
    "It is hard to represent an L-layer deep neural network with the above representation. However, here is a simplified network representation:\n",
    "\n",
    "<img src=\"images/LlayerNN_kiank.png\" style=\"width:650px;height:400px;\">\n",
    "<caption><center> <u>Figure 3</u>: L-layer neural network. <br> The model can be summarized as: ***[LINEAR -> RELU] $\\times$ (L-1) -> LINEAR -> SIGMOID***</center></caption>\n",
    "\n",
    "<u>Detailed Architecture of figure 3</u>:\n",
    "- The input is a (64,64,3) image which is flattened to a vector of size (12288,1).\n",
    "- The corresponding vector: $[x_0,x_1,...,x_{12287}]^T$ is then multiplied by the weight matrix $W^{[1]}$ and then you add the intercept $b^{[1]}$. The result is called the linear unit.\n",
    "- Next, you take the relu of the linear unit. This process could be repeated several times for each $(W^{[l]}, b^{[l]})$ depending on the model architecture.\n",
    "- Finally, you take the sigmoid of the final linear unit. If it is greater than 0.5, you classify it to be a cat.\n",
    "\n",
    "### 3.3 - General methodology\n",
    "\n",
    "As usual you will follow the Deep Learning methodology to build the model:\n",
    "    1. Initialize parameters / Define hyperparameters\n",
    "    2. Loop for num_iterations:\n",
    "        a. Forward propagation\n",
    "        b. Compute cost function\n",
    "        c. Backward propagation\n",
    "        d. Update parameters (using parameters, and grads from backprop) \n",
    "    4. Use trained parameters to predict labels\n",
    "\n",
    "Let's now implement those two models!"
   ]
  },
  {
   "cell_type": "markdown",
   "id": "2d1fd4ca",
   "metadata": {},
   "source": [
    "### 3.4 Helper functions"
   ]
  },
  {
   "cell_type": "code",
   "execution_count": 31,
   "id": "8bd20248",
   "metadata": {},
   "outputs": [],
   "source": [
    "def sigmoid(z):\n",
    "    s = 1/(1+np.exp(-z))\n",
    "    return s,z\n",
    "\n",
    "def relu(z):\n",
    "    r = np.maximum(0,z)\n",
    "    return r,z\n",
    "\n",
    "def sigmoid_backward(dA,activation_cache): #dgZ = da/dz\n",
    "    z = activation_cache\n",
    "    a = 1/(1+np.exp(-z))\n",
    "    dgZ = np.multiply(a,1-a)\n",
    "    dZ = dA * dgZ\n",
    "    return dZ\n",
    "\n",
    "def relu_backward(dA, activation_cache): #dgZ = da/dz\n",
    "    Z = activation_cache\n",
    "    dZ = np.array(dA, copy=True)\n",
    "    # When z <= 0, you should set dz to 0 as well. \n",
    "    dZ[Z <= 0] = 0\n",
    "    return dZ"
   ]
  },
  {
   "cell_type": "markdown",
   "id": "1a8186bf",
   "metadata": {},
   "source": [
    "## 4 - Two-layer neural network\n",
    "\n",
    "**Question**:  Use the helper functions you have implemented in the previous assignment to build a 2-layer neural network with the following structure: *LINEAR -> RELU -> LINEAR -> SIGMOID*. The functions you may need and their inputs are:\n",
    "```python\n",
    "def initialize_parameters(n_x, n_h, n_y):\n",
    "    ...\n",
    "    return parameters    \n",
    "\n",
    "def linear_activation_forward(A_prev, W, b, activation):\n",
    "    ...\n",
    "    return A, cache   \n",
    "\n",
    "def compute_cost(AL, Y):\n",
    "    ...\n",
    "    return cost   \n",
    "\n",
    "def linear_activation_backward(dA, cache, activation):\n",
    "    ...\n",
    "    return dA_prev, dW, db   \n",
    "\n",
    "def update_parameters(parameters, grads, learning_rate):\n",
    "    ...\n",
    "    return parameters\n",
    "```"
   ]
  },
  {
   "cell_type": "markdown",
   "id": "faf62ca1",
   "metadata": {},
   "source": [
    "### 4.1 Initialize parameters"
   ]
  },
  {
   "cell_type": "code",
   "execution_count": 8,
   "id": "7aa76a04",
   "metadata": {},
   "outputs": [],
   "source": [
    "def initialize_parameters(n_x, n_h, n_y):\n",
    "    \"\"\"\n",
    "    Argument:\n",
    "    n_x -- size of the input layer\n",
    "    n_h -- size of the hidden layer\n",
    "    n_y -- size of the output layer\n",
    "    \n",
    "    Returns:\n",
    "    parameters -- python dictionary containing your parameters:\n",
    "                    W1 -- weight matrix of shape (n_h, n_x)\n",
    "                    b1 -- bias vector of shape (n_h, 1)\n",
    "                    W2 -- weight matrix of shape (n_y, n_h)\n",
    "                    b2 -- bias vector of shape (n_y, 1)\n",
    "    \"\"\"\n",
    "    np.random.seed(1)\n",
    "    \n",
    "    W1 = np.random.randn(n_h,n_x)*0.01\n",
    "    b1 = np.zeros((n_h,1))\n",
    "    W2 = np.random.randn(n_y,n_h)*0.01\n",
    "    b2 = np.zeros((n_y,1))\n",
    "    \n",
    "    parameters = { \n",
    "                \"W1\":W1,\n",
    "                \"b1\":b1,\n",
    "                \"W2\":W2,\n",
    "                \"b2\":b2\n",
    "                 }\n",
    "    \n",
    "    return parameters"
   ]
  },
  {
   "cell_type": "markdown",
   "id": "1f416f73",
   "metadata": {},
   "source": [
    "### 4.2 Linear activation forward"
   ]
  },
  {
   "cell_type": "code",
   "execution_count": 32,
   "id": "72a83c72",
   "metadata": {},
   "outputs": [],
   "source": [
    "\n",
    "\n",
    "def linear_forward(A, W, b):\n",
    "    \"\"\"\n",
    "    FOR A SINGLE LAYER\n",
    "    \n",
    "    Implement the linear part of a layer's forward propagation.\n",
    "\n",
    "    Arguments:\n",
    "    A -- activations from previous layer (or input data): (size of previous layer, number of examples)\n",
    "    W -- weights matrix: numpy array of shape (size of current layer, size of previous layer)\n",
    "    b -- bias vector, numpy array of shape (size of the current layer, 1)\n",
    "\n",
    "    Returns:\n",
    "    Z -- the input of the activation function, also called pre-activation parameter \n",
    "    cache -- list containing \"A\", \"W\" and \"b\" ; stored for computing the backward pass efficiently\n",
    "    \"\"\"\n",
    "    \n",
    "    Z = np.dot(W,A) + b\n",
    "    cache = (A,W,b)\n",
    "    \n",
    "    assert(Z.shape == (W.shape[0], A.shape[1]))\n",
    "    \n",
    "    return Z, cache\n",
    "\n",
    "\n",
    "def linear_activation_forward(A_prev, W, b, activation):\n",
    "    \"\"\"\n",
    "    Implement the forward propagation for the LINEAR->ACTIVATION layer\n",
    "\n",
    "    Arguments:\n",
    "    A_prev -- activations from previous layer (or input data): (size of previous layer, number of examples)\n",
    "    W -- weights matrix: numpy array of shape (size of current layer, size of previous layer)\n",
    "    b -- bias vector, numpy array of shape (size of the current layer, 1)\n",
    "    activation -- the activation to be used in this layer, stored as a text string: \"sigmoid\" or \"relu\"\n",
    "\n",
    "    Returns:\n",
    "    A -- the output of the activation function, also called the post-activation value \n",
    "    cache -- a python dictionary containing \"linear_cache\" and \"activation_cache\";\n",
    "             stored for computing the backward pass efficiently\n",
    "        \n",
    "        linear cache : A_prev, W, b\n",
    "        activation cache: Z\n",
    "             \n",
    "    \"\"\"\n",
    "    \n",
    "    if activation == \"sigmoid\":\n",
    "        Z,linear_cache = linear_forward(A_prev,W,b)\n",
    "        A,activation_cache = sigmoid(Z)\n",
    "        \n",
    "    elif activation == \"relu\":\n",
    "        Z,linear_cache = linear_forward(A_prev,W,b)\n",
    "        A,activation_cache = relu(Z)\n",
    "    \n",
    "    assert (A.shape == (W.shape[0], A_prev.shape[1]))\n",
    "    cache = (linear_cache,activation_cache)\n",
    "        \n",
    "    return A,cache"
   ]
  },
  {
   "cell_type": "markdown",
   "id": "4a81e079",
   "metadata": {},
   "source": [
    "### 4.3 Compute cost"
   ]
  },
  {
   "cell_type": "code",
   "execution_count": 33,
   "id": "2eea767b",
   "metadata": {},
   "outputs": [],
   "source": [
    "\n",
    "\n",
    "def compute_cost(AL, Y):\n",
    "    \"\"\"\n",
    "    Implement the cost function for logistic regression.\n",
    "\n",
    "    Arguments:\n",
    "    AL -- probability vector corresponding to your label predictions, shape (1, number of examples)\n",
    "    Y -- true \"label\" vector (for example: containing 0 if non-cat, 1 if cat), shape (1, number of examples)\n",
    "\n",
    "    Returns:\n",
    "    cost -- cross-entropy cost\n",
    "    \"\"\"\n",
    "    \n",
    "    m = Y.shape[1]\n",
    "    \n",
    "    log_probs = np.multiply(Y, np.log(AL)) + np.multiply(1-Y, np.log(1-AL))\n",
    "    cost = - np.sum(log_probs)/m\n",
    "    \n",
    "    cost = np.squeeze(cost) #to make sure the cost is of dimension we need - turns [[17]] to 17\n",
    "    \n",
    "    assert(cost.shape == ())\n",
    "    \n",
    "    return cost"
   ]
  },
  {
   "cell_type": "markdown",
   "id": "0051e2cb",
   "metadata": {},
   "source": [
    "### 4.4 Linear activation backward"
   ]
  },
  {
   "cell_type": "code",
   "execution_count": 34,
   "id": "93bb4751",
   "metadata": {},
   "outputs": [],
   "source": [
    "def linear_backward(dZ, cache):\n",
    "    \"\"\"\n",
    "    FOR A SINGLE LAYER\n",
    "    \n",
    "    Implement the linear portion of backward propagation for a single layer (layer l)\n",
    "\n",
    "    Arguments:\n",
    "    dZ -- Gradient of the cost with respect to the linear output (of current layer l)\n",
    "    cache -- tuple of values (A_prev, W, b) coming from the forward propagation in the current layer\n",
    "\n",
    "    Returns:\n",
    "    dA_prev -- Gradient of the cost with respect to the activation (of the previous layer l-1), same shape as A_prev\n",
    "    dW -- Gradient of the cost with respect to W (current layer l), same shape as W\n",
    "    db -- Gradient of the cost with respect to b (current layer l), same shape as b\n",
    "    \"\"\"\n",
    "    \n",
    "    A_prev = cache[0]\n",
    "    W = cache[1]\n",
    "    b = cache[2]\n",
    "    \n",
    "    m = A_prev.shape[1]\n",
    "    \n",
    "    dW = (1/m) * np.dot(dZ,A_prev.T)\n",
    "    db = (1/m) * np.sum(dZ, axis=1, keepdims= True)\n",
    "    \n",
    "    dA_prev = np.dot(W.T,dZ)\n",
    "    \n",
    "    assert (dW.shape==W.shape)\n",
    "    assert (db.shape==b.shape)\n",
    "    assert (dA_prev.shape==A_prev.shape)\n",
    "    \n",
    "    return dA_prev, dW, db\n",
    "\n",
    "def linear_activation_backward(dA, cache, activation):\n",
    "    \"\"\"\n",
    "    Implement the backward propagation for the LINEAR->ACTIVATION layer.\n",
    "    \n",
    "    Arguments:\n",
    "    dA -- post-activation gradient for current layer l \n",
    "    cache -- tuple of values (linear_cache, activation_cache) we store for computing backward propagation efficiently\n",
    "    activation -- the activation to be used in this layer, stored as a text string: \"sigmoid\" or \"relu\"\n",
    "        linear cache: A_prev, w, b\n",
    "        activation cache: Z\n",
    "    \n",
    "    Returns:\n",
    "    dA_prev -- Gradient of the cost with respect to the activation (of the previous layer l-1), same shape as A_prev\n",
    "    dW -- Gradient of the cost with respect to W (current layer l), same shape as W\n",
    "    db -- Gradient of the cost with respect to b (current layer l), same shape as b\n",
    "    \"\"\"\n",
    "    \n",
    "    linear_cache, activation_cache = cache\n",
    "    \n",
    "    \n",
    "    if activation == \"sigmoid\":\n",
    "        dZ = sigmoid_backward(dA, activation_cache)\n",
    "    \n",
    "    elif activation == \"relu\":\n",
    "        dZ = relu_backward(dA, activation_cache)\n",
    "        \n",
    "    dA_prev, dW, db = linear_backward(dZ, linear_cache)\n",
    "    \n",
    "    return dA_prev, dW, db"
   ]
  },
  {
   "cell_type": "markdown",
   "id": "352b2c44",
   "metadata": {},
   "source": [
    "### 4.5 Update parameters"
   ]
  },
  {
   "cell_type": "code",
   "execution_count": 35,
   "id": "7e6df1fc",
   "metadata": {},
   "outputs": [],
   "source": [
    "\n",
    "def update_parameters(parameters, grads, learning_rate):\n",
    "    \"\"\"\n",
    "    Update parameters using gradient descent\n",
    "    \n",
    "    Arguments:\n",
    "    parameters -- python dictionary containing your parameters \n",
    "    grads -- python dictionary containing your gradients, output of L_model_backward\n",
    "    \n",
    "    Returns:\n",
    "    parameters -- python dictionary containing your updated parameters \n",
    "                  parameters[\"W\" + str(l)] = ... \n",
    "                  parameters[\"b\" + str(l)] = ...\n",
    "    \"\"\"    \n",
    "    L = len(parameters) // 2 # number of layers in the neural network\n",
    "    # Update rule for each parameter. Use a for loop.\n",
    "    for l in range(L):\n",
    "        parameters[\"W\" + str(l+1)] = parameters[\"W\" + str(l+1)] - learning_rate * grads[\"dW\" + str(l+1)]\n",
    "        parameters[\"b\" + str(l+1)] = parameters[\"b\" + str(l+1)] - learning_rate * grads[\"db\" + str(l+1)]\n",
    "    return parameters"
   ]
  },
  {
   "cell_type": "markdown",
   "id": "cea71175",
   "metadata": {},
   "source": [
    "### 4.6 Two-layer neural network"
   ]
  },
  {
   "cell_type": "code",
   "execution_count": 13,
   "id": "85b476ec",
   "metadata": {},
   "outputs": [],
   "source": [
    "n_x = 12288\n",
    "n_h = 7 #hidden units in layer 1\n",
    "n_y = 1"
   ]
  },
  {
   "cell_type": "code",
   "execution_count": 6,
   "id": "2d5325ca",
   "metadata": {},
   "outputs": [],
   "source": [
    "def two_layer_NN(X,Y,layers_dims,learning_rate=0.0075, num_iterations = 3000, print_cost=False):\n",
    "    \n",
    "    np.random.seed(1)\n",
    "    grads = {}\n",
    "    costs = []\n",
    "    (n_x,n_h,n_y) = layers_dims\n",
    "    \n",
    "    parameters = initialize_parameters(n_x,n_h,n_y)\n",
    "    \n",
    "    W1 = parameters[\"W1\"]\n",
    "    b1 = parameters[\"b1\"]\n",
    "    W2 = parameters[\"W2\"]\n",
    "    b2 = parameters[\"b2\"]\n",
    "    \n",
    "    for i in range(0,num_iterations):\n",
    "        \n",
    "        #FORWARD PROPAGATION\n",
    "    \n",
    "        #for layer 1\n",
    "        A0 = X\n",
    "        A1,cache1 = linear_activation_forward(A0, W1, b1, activation=\"relu\")\n",
    "        #for output layer\n",
    "        A2,cache2 = linear_activation_forward(A1, W2, b2, activation=\"sigmoid\")\n",
    "\n",
    "        cost = compute_cost(A2,Y)\n",
    "\n",
    "        #BACKWARD PROPAGATION\n",
    "\n",
    "        #for output layer\n",
    "        dA2 = - (np.divide(Y,A2) - np.divide(1-Y,1-A2))\n",
    "        dA1, dW2, db2 = linear_activation_backward(dA2, cache2, activation=\"sigmoid\")\n",
    "        #for layer 1\n",
    "        dA0, dW1, db1 = linear_activation_backward(dA1, cache1, activation=\"relu\")\n",
    "\n",
    "        grads[\"dW1\"] = dW1\n",
    "        grads[\"db1\"] = db1\n",
    "        grads[\"dW2\"] = dW2\n",
    "        grads[\"db2\"] = db2\n",
    "\n",
    "        parameters = update_parameters(parameters, grads, learning_rate)\n",
    "\n",
    "        W1 = parameters[\"W1\"]\n",
    "        b1 = parameters[\"b1\"]\n",
    "        W2 = parameters[\"W2\"]\n",
    "        b2 = parameters[\"b2\"]\n",
    "\n",
    "        # Print the cost every 100 training example\n",
    "        if print_cost and i % 100 == 0:\n",
    "            print(\"Cost after iteration {}: {}\".format(i, np.squeeze(cost)))\n",
    "        if print_cost and i % 100 == 0:\n",
    "            costs.append(cost)\n",
    "       \n",
    "    # plot the cost\n",
    "\n",
    "    plt.plot(np.squeeze(costs))\n",
    "    plt.ylabel('cost')\n",
    "    plt.xlabel('iterations (per tens)')\n",
    "    plt.title(\"Learning rate =\" + str(learning_rate))\n",
    "    plt.show()\n",
    "    \n",
    "    return parameters"
   ]
  },
  {
   "cell_type": "code",
   "execution_count": 15,
   "id": "fe34fd1a",
   "metadata": {},
   "outputs": [
    {
     "name": "stdout",
     "output_type": "stream",
     "text": [
      "Cost after iteration 0: 0.6930497356599891\n",
      "Cost after iteration 100: 0.6464320953428849\n",
      "Cost after iteration 200: 0.6325140647912677\n",
      "Cost after iteration 300: 0.6015024920354665\n",
      "Cost after iteration 400: 0.5601966311605748\n",
      "Cost after iteration 500: 0.515830477276473\n",
      "Cost after iteration 600: 0.4754901313943326\n",
      "Cost after iteration 700: 0.4339163151225749\n",
      "Cost after iteration 800: 0.4007977536203889\n",
      "Cost after iteration 900: 0.35807050113237976\n",
      "Cost after iteration 1000: 0.3394281538366414\n",
      "Cost after iteration 1100: 0.3052753636196265\n",
      "Cost after iteration 1200: 0.27491377282130175\n",
      "Cost after iteration 1300: 0.24681768210614854\n",
      "Cost after iteration 1400: 0.19850735037466088\n",
      "Cost after iteration 1500: 0.17448318112556654\n",
      "Cost after iteration 1600: 0.1708076297809581\n",
      "Cost after iteration 1700: 0.11306524562164741\n",
      "Cost after iteration 1800: 0.09629426845937146\n",
      "Cost after iteration 1900: 0.0834261795972686\n",
      "Cost after iteration 2000: 0.07439078704319078\n",
      "Cost after iteration 2100: 0.06630748132267927\n",
      "Cost after iteration 2200: 0.05919329501038166\n",
      "Cost after iteration 2300: 0.05336140348560554\n",
      "Cost after iteration 2400: 0.04855478562877014\n"
     ]
    },
    {
     "data": {
      "image/png": "[encoded data removed]",
      "text/plain": [
       "<Figure size 640x480 with 1 Axes>"
      ]
     },
     "metadata": {},
     "output_type": "display_data"
    }
   ],
   "source": [
    "parameters = two_layer_NN(train_x, train_y, layers_dims = (n_x, n_h, n_y), num_iterations = 2500, print_cost=True)\n"
   ]
  },
  {
   "cell_type": "code",
   "execution_count": 16,
   "id": "36feb8f4",
   "metadata": {},
   "outputs": [],
   "source": [
    "def predict(test_x, test_y, parameters):\n",
    "    W1 = parameters[\"W1\"]\n",
    "    b1 = parameters[\"b1\"]\n",
    "    W2 = parameters[\"W2\"]\n",
    "    b2 = parameters[\"b2\"]\n",
    "    \n",
    "    m = test_y.shape[1]\n",
    "    \n",
    "    #Layer 1\n",
    "    A0 = test_x\n",
    "    A1,cache1 = linear_activation_forward(A0, W1, b1, activation=\"relu\")\n",
    "    #Output layer\n",
    "    A2,cache2 = linear_activation_forward(A1, W2, b2, activation=\"sigmoid\")\n",
    "\n",
    "    y_pred = (A2 > 0.5).astype(int)\n",
    "    \n",
    "    accuracy = (np.dot(test_y[0],y_pred[0]) + np.dot(1-test_y[0],1-y_pred[0]))/m\n",
    "    print(\"Accuracy: \", accuracy)\n",
    "    \n",
    "    return accuracy"
   ]
  },
  {
   "cell_type": "code",
   "execution_count": 17,
   "id": "3b542aad",
   "metadata": {},
   "outputs": [
    {
     "name": "stdout",
     "output_type": "stream",
     "text": [
      "Accuracy:  0.72\n"
     ]
    }
   ],
   "source": [
    "predictions_test = predict(test_x, test_y, parameters)"
   ]
  },
  {
   "cell_type": "markdown",
   "id": "b0fedbe8",
   "metadata": {},
   "source": [
    "## 5 - L-layer Neural Network\n",
    "\n",
    "**Question**: Use the helper functions you have implemented previously to build an $L$-layer neural network with the following structure: *[LINEAR -> RELU]$\\times$(L-1) -> LINEAR -> SIGMOID*. The functions you may need and their inputs are:\n",
    "```python\n",
    "def initialize_parameters_deep(layer_dims):\n",
    "    ...\n",
    "    return parameters \n",
    "def L_model_forward(X, parameters):\n",
    "    ...\n",
    "    return AL, caches\n",
    "def compute_cost(AL, Y):\n",
    "    ...\n",
    "    return cost\n",
    "def L_model_backward(AL, Y, caches):\n",
    "    ...\n",
    "    return grads\n",
    "def update_parameters(parameters, grads, learning_rate):\n",
    "    ...\n",
    "    return parameters\n",
    "```"
   ]
  },
  {
   "cell_type": "markdown",
   "id": "43f6607d",
   "metadata": {},
   "source": [
    "### 5.1 Initialize parameters"
   ]
  },
  {
   "cell_type": "code",
   "execution_count": 43,
   "id": "d1f4c433",
   "metadata": {},
   "outputs": [],
   "source": [
    "\n",
    "\n",
    "def initialize_parameters_deep(layer_dims):\n",
    "    \"\"\"\n",
    "    Arguments:\n",
    "    layer_dims -- python array (list) containing the dimensions of each layer in our network\n",
    "    [nx,n1,n2,n3....nL]\n",
    "    nx - number of data points\n",
    "    n1 - number of units in layer 1\n",
    "    \n",
    "    Returns:\n",
    "    parameters -- python dictionary containing your parameters \"W1\", \"b1\", ..., \"WL\", \"bL\":\n",
    "                    Wl -- weight matrix of shape (layer_dims[l], layer_dims[l-1])\n",
    "                    bl -- bias vector of shape (layer_dims[l], 1)\n",
    "    \"\"\"\n",
    "    \n",
    "    np.random.seed(3)\n",
    "    L = len(layer_dims) #Total layers\n",
    "    parameters = {}\n",
    "    \n",
    "    for l in range(1,L):\n",
    "        parameters[\"W\" + str(l)] = np.random.randn(layer_dims[l],layer_dims[l-1])* np.sqrt(2 / layers_dims[l-1])\n",
    "        parameters[\"b\" + str(l)] = np.zeros((layer_dims[l],1))\n",
    "        \n",
    "    assert(parameters['W' + str(l)].shape == (layer_dims[l], layer_dims[l - 1]))\n",
    "    assert(parameters['b' + str(l)].shape == (layer_dims[l], 1))\n",
    "\n",
    "    return parameters"
   ]
  },
  {
   "cell_type": "code",
   "execution_count": 19,
   "id": "7ee1b57f",
   "metadata": {},
   "outputs": [
    {
     "name": "stdout",
     "output_type": "stream",
     "text": [
      "W1 = [[ 0.01788628  0.0043651   0.00096497 -0.01863493 -0.00277388]\n",
      " [-0.00354759 -0.00082741 -0.00627001 -0.00043818 -0.00477218]\n",
      " [-0.01313865  0.00884622  0.00881318  0.01709573  0.00050034]\n",
      " [-0.00404677 -0.0054536  -0.01546477  0.00982367 -0.01101068]]\n",
      "b1 = [[0.]\n",
      " [0.]\n",
      " [0.]\n",
      " [0.]]\n",
      "W2 = [[-0.01185047 -0.0020565   0.01486148  0.00236716]\n",
      " [-0.01023785 -0.00712993  0.00625245 -0.00160513]\n",
      " [-0.00768836 -0.00230031  0.00745056  0.01976111]]\n",
      "b2 = [[0.]\n",
      " [0.]\n",
      " [0.]]\n"
     ]
    }
   ],
   "source": [
    "# TEST CASE\n",
    "parameters = initialize_parameters_deep([5,4,3])\n",
    "print(\"W1 = \" + str(parameters[\"W1\"]))\n",
    "print(\"b1 = \" + str(parameters[\"b1\"]))\n",
    "print(\"W2 = \" + str(parameters[\"W2\"]))\n",
    "print(\"b2 = \" + str(parameters[\"b2\"]))"
   ]
  },
  {
   "cell_type": "markdown",
   "id": "74a83260",
   "metadata": {},
   "source": [
    "##### initialize_parameters_deep passed the test !!!"
   ]
  },
  {
   "cell_type": "markdown",
   "id": "3e35c052",
   "metadata": {},
   "source": [
    "### 5.2 L_model forward"
   ]
  },
  {
   "cell_type": "code",
   "execution_count": 7,
   "id": "0bb3f046",
   "metadata": {},
   "outputs": [],
   "source": [
    "def L_model_forward(X, parameters):\n",
    "    \"\"\"\n",
    "    Implement forward propagation for the [LINEAR->RELU]*(L-1)->LINEAR->SIGMOID computation\n",
    "    \n",
    "    Arguments:\n",
    "    X -- data, numpy array of shape (input size, number of examples)\n",
    "    parameters -- output of initialize_parameters_deep() - dictionary containing W1,b1,W2,b2......WL,bL\n",
    "    \n",
    "    Returns:\n",
    "    AL -- last post-activation value\n",
    "    caches -- list of caches containing:\n",
    "                every cache of linear_relu_forward() (there are L-1 of them, indexed from 0 to L-2)\n",
    "                the cache of linear_sigmoid_forward() (there is one, indexed L-1)\n",
    "                \n",
    "    caches = [((A_prev, W, b),Z)),......] for layer 1 to L indexed 0,1,2....L-2\n",
    "    \n",
    "    HERE L - # of LAYERS DOES NOT INCLUDE INPUT LAYER\n",
    "    \"\"\"\n",
    "    \n",
    "    L = len(parameters)//2   # this does not include input layer\n",
    "    caches = []\n",
    "    A_prev = X\n",
    "    \n",
    "    # FOR LAYER 1 to L-1, RELU activation value A_l is calculated\n",
    "    \n",
    "    for l in range(1,L):\n",
    "        W = parameters[\"W\"+str(l)]\n",
    "        b = parameters[\"b\"+str(l)]\n",
    "        \n",
    "        A,cache = linear_activation_forward(A_prev, W, b, activation=\"relu\")\n",
    "        caches.append(cache)\n",
    "        A_prev = A\n",
    "    \n",
    "    \n",
    "    # FOR LAYER L, SIGMOID activation value\n",
    "    \n",
    "    W = parameters[\"W\"+str(L)]\n",
    "    b = parameters[\"b\"+str(L)]\n",
    "    \n",
    "    AL,cache = linear_activation_forward(A_prev, W, b, activation=\"sigmoid\")\n",
    "    caches.append(cache)\n",
    "    \n",
    "    assert(AL.shape == (1, X.shape[1]))\n",
    "    \n",
    "    return AL, caches"
   ]
  },
  {
   "cell_type": "code",
   "execution_count": 11,
   "id": "38e0db76",
   "metadata": {},
   "outputs": [
    {
     "name": "stdout",
     "output_type": "stream",
     "text": [
      "[[0.49825001 0.48925166]]\n"
     ]
    }
   ],
   "source": [
    "X_test = np.array([[1.0, 4.0], # Feature 1 for both examples \n",
    "              [2.0, 5.0], # Feature 2 \n",
    "              [3.0, 6.0]]) \n",
    "\n",
    "parameters_test = { 'W1': np.array([[0.2, 0.4, -0.5], \n",
    "                               [0.3, -0.1, 0.2], \n",
    "                               [-0.3, 0.6, 0.1], \n",
    "                               [0.1, -0.4, 0.3]]), # Shape: (4, 3) \n",
    "              'b1': np.array([[0.1], [0.2], [0.0], [-0.1]]), # Shape: (4, 1) \n",
    "              'W2': np.array([[0.3, -0.2, 0.5, 0.1], \n",
    "                              [-0.4, 0.2, 0.1, -0.3], \n",
    "                              [0.2, -0.5, 0.3, 0.4]]), # Shape: (3, 4) \n",
    "              'b2': np.array([[0.0], [0.1], [-0.1]]), # Shape: (3, 1) \n",
    "              'W3': np.array([[0.5, -0.6, 0.2]]), # Shape: (1, 3) \n",
    "              'b3': np.array([[0.0]]) # Shape: (1, 1) \n",
    "                  } \n",
    "              \n",
    "AL_test,cache_test = L_model_forward(X_test, parameters_test)\n",
    "\n",
    "print(AL_test)"
   ]
  },
  {
   "cell_type": "markdown",
   "id": "c124e0d4",
   "metadata": {},
   "source": [
    "Expected output \n",
    "``` \n",
    "AL: [[0.49825001 0.48925166]] ```"
   ]
  },
  {
   "cell_type": "markdown",
   "id": "a9af80fd",
   "metadata": {},
   "source": [
    "##### L_model_forward function passed the test !!!"
   ]
  },
  {
   "cell_type": "markdown",
   "id": "d4564848",
   "metadata": {},
   "source": [
    "### 5.3 Compute_cost"
   ]
  },
  {
   "cell_type": "code",
   "execution_count": 22,
   "id": "f649e321",
   "metadata": {},
   "outputs": [],
   "source": [
    "# same function as the 2 layer model comput cost"
   ]
  },
  {
   "cell_type": "markdown",
   "id": "04580d19",
   "metadata": {},
   "source": [
    "### 5.4 L_model backward"
   ]
  },
  {
   "cell_type": "code",
   "execution_count": 14,
   "id": "1cb253d0",
   "metadata": {},
   "outputs": [],
   "source": [
    "def L_model_backward(AL, Y, caches):\n",
    "    \n",
    "    \"\"\"\n",
    "    Implement the backward propagation for the [LINEAR->RELU] * (L-1) -> LINEAR -> SIGMOID group\n",
    "    \n",
    "    Arguments:\n",
    "    AL -- probability vector, output of the forward propagation (L_model_forward())\n",
    "    Y -- true \"label\" vector (containing 0 if non-cat, 1 if cat)\n",
    "    caches -- list of caches containing:\n",
    "                every cache of linear_activation_forward() with \"relu\" (it's caches[l], for l in range(L-1) i.e l = 0...L-2)\n",
    "                the cache of linear_activation_forward() with \"sigmoid\" (it's caches[L-1])\n",
    "    caches = [((A_prev, W, b),Z)),......] for layer 1 to L indexed 0,1,2....L-2\n",
    "    \n",
    "    HERE L - # of LAYERS DOES NOT INCLUDE INPUT LAYER\n",
    "    \n",
    "    Returns:\n",
    "    grads -- A dictionary with the gradients\n",
    "             grads[\"dA\" + str(l)] = ... \n",
    "             grads[\"dW\" + str(l)] = ...\n",
    "             grads[\"db\" + str(l)] = ... \n",
    "    \"\"\"\n",
    "    grads = {}\n",
    "    L = len(caches)\n",
    "    Y = Y.reshape(AL.shape) # after this line, Y is the same shape as AL\n",
    "    \n",
    "    dAL = - (np.divide(Y, AL) - np.divide(1 - Y, 1 - AL)) # derivative of cost with respect to AL\n",
    "    \n",
    "    cache = caches[L-1]\n",
    "    dA_prev, dW, db = linear_activation_backward(dAL, cache, activation=\"sigmoid\")\n",
    "\n",
    "    grads[\"dA\" + str(L)] = dAL\n",
    "    grads[\"dW\" + str(L)] = dW\n",
    "    grads[\"db\" + str(L)] = db\n",
    "    \n",
    "    \n",
    "    for l in reversed(range(L-1)): # 2 1 0 \n",
    "       \n",
    "        cache = caches[l] # 2 1 0\n",
    "        \n",
    "        dA_prev_temp, dW, db = linear_activation_backward(dA_prev, cache, activation=\"relu\")\n",
    "        \n",
    "        grads[\"dA\" + str(l+1)] = dA_prev\n",
    "        grads[\"dW\" + str(l+1)] = dW\n",
    "        grads[\"db\" + str(l+1)] = db\n",
    "        \n",
    "        dA_prev = dA_prev_temp\n",
    "        \n",
    "    return grads"
   ]
  },
  {
   "cell_type": "code",
   "execution_count": 24,
   "id": "10a63e03",
   "metadata": {},
   "outputs": [
    {
     "name": "stdout",
     "output_type": "stream",
     "text": [
      "dA 1 [[-0.1956825   0.19080815]\n",
      " [ 0.110385   -0.10763536]\n",
      " [-0.0953325   0.09295781]\n",
      " [-0.1154025   0.11252788]]\n",
      "dW 1 [[ 0.          0.          0.        ]\n",
      " [-0.16007823 -0.15870341 -0.1573286 ]\n",
      " [ 0.13824938  0.13706204  0.1358747 ]\n",
      " [ 0.16735451  0.1659172   0.1644799 ]]\n",
      "db 1 [[ 0.        ]\n",
      " [ 0.00137482]\n",
      " [-0.00118734]\n",
      " [-0.00143731]]\n",
      "dA 2 [[-0.250875    0.24462583]\n",
      " [ 0.30105    -0.29355099]\n",
      " [-0.10035     0.09785033]]\n",
      "dW 2 [[ 0.          0.14396337  0.143026   -0.00031246]\n",
      " [ 0.         -0.17275605 -0.17163119  0.00037495]\n",
      " [ 0.          0.          0.          0.        ]]\n",
      "db 2 [[-0.00312458]\n",
      " [ 0.0037495 ]\n",
      " [ 0.        ]]\n",
      "dA 3 [[-2.00702456  1.95791139]]\n",
      "dW 3 [[0.08537816 0.08575311 0.        ]]\n",
      "db 3 [[-0.00624917]]\n"
     ]
    }
   ],
   "source": [
    "## TEST CASE\n",
    "Y_test = np.array([[1, 0]])\n",
    "grads_test = L_model_backward(AL_test, Y_test, caches_test)\n",
    "\n",
    "for i in range(1,4):\n",
    "    print(\"dA\",i,grads_test[\"dA\"+str(i)])\n",
    "    print(\"dW\",i,grads_test[\"dW\"+str(i)])\n",
    "    print(\"db\",i,grads_test[\"db\"+str(i)])"
   ]
  },
  {
   "cell_type": "markdown",
   "id": "b54d6d27",
   "metadata": {},
   "source": [
    "##### L_model_forward function passed the test !!!"
   ]
  },
  {
   "cell_type": "markdown",
   "id": "78983038",
   "metadata": {},
   "source": [
    "### 5.5 Update parameters"
   ]
  },
  {
   "cell_type": "code",
   "execution_count": 25,
   "id": "8236820c",
   "metadata": {},
   "outputs": [],
   "source": [
    "# same function as the 2 layer model update parameters"
   ]
  },
  {
   "cell_type": "markdown",
   "id": "f64fee98",
   "metadata": {},
   "source": [
    "### 5.6 L-layer neural net"
   ]
  },
  {
   "cell_type": "code",
   "execution_count": 37,
   "id": "0d639d02",
   "metadata": {},
   "outputs": [],
   "source": [
    "# Creating 5 layer model (i/p and o/p layer included)\n",
    "\n",
    "layers_dims = [12288, 20, 7, 5, 1] "
   ]
  },
  {
   "cell_type": "code",
   "execution_count": 45,
   "id": "399d3a84",
   "metadata": {},
   "outputs": [],
   "source": [
    "def L_layer_NN(X, Y, layers_dims, learning_rate=0.0075, num_iterations=3000, print_cost=False): #lr was 0.009\n",
    "    \"\"\"\n",
    "    Implements a L-layer neural network: [LINEAR->RELU]*(L-1)->LINEAR->SIGMOID.\n",
    "    \n",
    "    Arguments:\n",
    "    X -- data, numpy array of shape (number of examples, num_px * num_px * 3)\n",
    "    Y -- true \"label\" vector (containing 0 if cat, 1 if non-cat), of shape (1, number of examples)\n",
    "    layers_dims -- list containing the input size and each layer size, of length (number of layers + 1).\n",
    "    learning_rate -- learning rate of the gradient descent update rule\n",
    "    num_iterations -- number of iterations of the optimization loop\n",
    "    print_cost -- if True, it prints the cost every 100 steps\n",
    "    \n",
    "    Returns:\n",
    "    parameters -- parameters learnt by the model. They can then be used to predict.\n",
    "    \"\"\"\n",
    "\n",
    "    np.random.seed(1)\n",
    "    costs = []  \n",
    "    \n",
    "    # Parameters initialization.\n",
    "    parameters = initialize_parameters_deep(layers_dims)\n",
    "    \n",
    "    # Loop (gradient descent)\n",
    "    for i in range(0, num_iterations):\n",
    "\n",
    "        # Forward propagation\n",
    "        \n",
    "        AL, caches = L_model_forward(X, parameters)\n",
    "        cost = compute_cost(AL, Y)\n",
    "\n",
    "        # Backward propagation\n",
    "        \n",
    "        grads = L_model_backward(AL, Y, caches)\n",
    "        parameters = update_parameters(parameters, grads, learning_rate)\n",
    "                \n",
    "        # Print the cost every 100 training example\n",
    "        if print_cost and i % 100 == 0:\n",
    "            print (\"Cost after iteration %i: %f\" % (i, cost))\n",
    "            costs.append(cost)\n",
    "            \n",
    "            \n",
    "    # plot the cost\n",
    "    plt.plot(np.squeeze(costs))\n",
    "    plt.ylabel('cost')\n",
    "    plt.xlabel('iterations (per tens)')\n",
    "    plt.title(\"Learning rate =\" + str(learning_rate))\n",
    "    plt.show()\n",
    "    \n",
    "    return parameters,cost"
   ]
  },
  {
   "cell_type": "code",
   "execution_count": 44,
   "id": "cc60f505",
   "metadata": {},
   "outputs": [
    {
     "name": "stdout",
     "output_type": "stream",
     "text": [
      "\n",
      "Training model with layers [12288, 4, 1] and learning_rate=0.001\n",
      "Final cost: 0.345025\n",
      "\n",
      "Training model with layers [12288, 4, 1] and learning_rate=0.01\n",
      "Final cost: 0.198840\n",
      "\n",
      "Training model with layers [12288, 4, 1] and learning_rate=0.1\n",
      "Final cost: 0.643974\n",
      "\n",
      "Training model with layers [12288, 4, 1] and learning_rate=0.5\n",
      "Final cost: 0.643974\n",
      "\n",
      "Training model with layers [12288, 64, 32, 1] and learning_rate=0.001\n",
      "Final cost: 0.250485\n",
      "\n",
      "Training model with layers [12288, 64, 32, 1] and learning_rate=0.01\n",
      "Final cost: 0.015885\n",
      "\n",
      "Training model with layers [12288, 64, 32, 1] and learning_rate=0.1\n"
     ]
    },
    {
     "name": "stderr",
     "output_type": "stream",
     "text": [
      "/var/folders/7w/y0zmsm413vv3zxql2vkprc8w0000gp/T/ipykernel_10437/2026680113.py:15: RuntimeWarning: divide by zero encountered in log\n",
      "  log_probs = np.multiply(Y, np.log(AL)) + np.multiply(1-Y, np.log(1-AL))\n",
      "/var/folders/7w/y0zmsm413vv3zxql2vkprc8w0000gp/T/ipykernel_10437/2026680113.py:15: RuntimeWarning: invalid value encountered in multiply\n",
      "  log_probs = np.multiply(Y, np.log(AL)) + np.multiply(1-Y, np.log(1-AL))\n",
      "/var/folders/7w/y0zmsm413vv3zxql2vkprc8w0000gp/T/ipykernel_10437/52718244.py:26: RuntimeWarning: divide by zero encountered in divide\n",
      "  dAL = - (np.divide(Y, AL) - np.divide(1 - Y, 1 - AL)) # derivative of cost with respect to AL\n",
      "/var/folders/7w/y0zmsm413vv3zxql2vkprc8w0000gp/T/ipykernel_10437/52718244.py:26: RuntimeWarning: invalid value encountered in divide\n",
      "  dAL = - (np.divide(Y, AL) - np.divide(1 - Y, 1 - AL)) # derivative of cost with respect to AL\n",
      "/var/folders/7w/y0zmsm413vv3zxql2vkprc8w0000gp/T/ipykernel_10437/1859874731.py:13: RuntimeWarning: invalid value encountered in multiply\n",
      "  dZ = dA * dgZ\n"
     ]
    },
    {
     "name": "stdout",
     "output_type": "stream",
     "text": [
      "Final cost: nan\n",
      "\n",
      "Training model with layers [12288, 64, 32, 1] and learning_rate=0.5\n",
      "Final cost: nan\n",
      "\n",
      "=== Summary of Results ===\n",
      "Layers: [12288, 4, 1], Learning rate: 0.001 → Final cost: 0.345025\n",
      "Layers: [12288, 4, 1], Learning rate: 0.01 → Final cost: 0.198840\n",
      "Layers: [12288, 4, 1], Learning rate: 0.1 → Final cost: 0.643974\n",
      "Layers: [12288, 4, 1], Learning rate: 0.5 → Final cost: 0.643974\n",
      "Layers: [12288, 64, 32, 1], Learning rate: 0.001 → Final cost: 0.250485\n",
      "Layers: [12288, 64, 32, 1], Learning rate: 0.01 → Final cost: 0.015885\n",
      "Layers: [12288, 64, 32, 1], Learning rate: 0.1 → Final cost: nan\n",
      "Layers: [12288, 64, 32, 1], Learning rate: 0.5 → Final cost: nan\n"
     ]
    }
   ],
   "source": [
    "learning_rates = [0.001, 0.01, 0.1, 0.5]\n",
    "layer_configs = [\n",
    "    [12288, 4, 1],       # 1 hidden layer\n",
    "    [12288, 64, 32, 1] # 2 hidden layer\n",
    "]\n",
    "\n",
    "# Run experiments\n",
    "results = []\n",
    "\n",
    "for layers_dims in layer_configs:\n",
    "    for lr in learning_rates:\n",
    "        print(f\"\\nTraining model with layers {layers_dims} and learning_rate={lr}\")\n",
    "        parameters, costs = L_layer_NN(\n",
    "            train_x, train_y,\n",
    "            layers_dims=layers_dims,\n",
    "            learning_rate=lr,\n",
    "            num_iterations=1000,\n",
    "            print_cost=False\n",
    "        )\n",
    "        final_cost = costs if costs else None\n",
    "        results.append((layers_dims, lr, final_cost))\n",
    "        print(f\"Final cost: {final_cost:.6f}\" if final_cost is not None else \"Cost not computed\")\n",
    "\n",
    "# Summary\n",
    "print(\"\\n=== Summary of Results ===\")\n",
    "for dims, lr, cost in results:\n",
    "    print(f\"Layers: {dims}, Learning rate: {lr} → Final cost: {cost:.6f}\")"
   ]
  },
  {
   "cell_type": "code",
   "execution_count": 46,
   "id": "b158e106",
   "metadata": {},
   "outputs": [
    {
     "name": "stdout",
     "output_type": "stream",
     "text": [
      "Cost after iteration 0: 0.753500\n",
      "Cost after iteration 100: 0.460868\n",
      "Cost after iteration 200: 0.297684\n",
      "Cost after iteration 300: 0.278468\n",
      "Cost after iteration 400: 0.156167\n",
      "Cost after iteration 500: 0.112613\n",
      "Cost after iteration 600: 0.059271\n",
      "Cost after iteration 700: 0.041829\n",
      "Cost after iteration 800: 0.029538\n",
      "Cost after iteration 900: 0.020114\n",
      "Cost after iteration 1000: 0.015843\n",
      "Cost after iteration 1100: 0.012907\n",
      "Cost after iteration 1200: 0.010743\n",
      "Cost after iteration 1300: 0.009153\n",
      "Cost after iteration 1400: 0.007945\n",
      "Cost after iteration 1500: 0.006959\n",
      "Cost after iteration 1600: 0.006192\n",
      "Cost after iteration 1700: 0.005544\n",
      "Cost after iteration 1800: 0.005010\n",
      "Cost after iteration 1900: 0.004559\n",
      "Cost after iteration 2000: 0.004167\n",
      "Cost after iteration 2100: 0.003829\n",
      "Cost after iteration 2200: 0.003535\n",
      "Cost after iteration 2300: 0.003280\n",
      "Cost after iteration 2400: 0.003050\n"
     ]
    },
    {
     "data": {
      "image/png": "[encoded data removed]",
      "text/plain": [
       "<Figure size 640x480 with 1 Axes>"
      ]
     },
     "metadata": {},
     "output_type": "display_data"
    }
   ],
   "source": [
    "layers_dims = [12288, 64, 32, 1]\n",
    "lr = 0.01\n",
    "\n",
    "\n",
    "parameters, costs = L_layer_NN(\n",
    "            train_x, train_y,\n",
    "            layers_dims=layers_dims,\n",
    "            learning_rate=lr,\n",
    "            num_iterations=2500,\n",
    "            print_cost=True\n",
    "        )"
   ]
  },
  {
   "cell_type": "code",
   "execution_count": 48,
   "id": "9cff894c",
   "metadata": {},
   "outputs": [
    {
     "name": "stdout",
     "output_type": "stream",
     "text": [
      "Accuracy:  0.7\n"
     ]
    }
   ],
   "source": [
    "def predict_Llayer(test_x, test_y, parameters):\n",
    "\n",
    "    m = test_y.shape[1]\n",
    "    \n",
    "    # Forward propagation\n",
    "    AL, caches = L_model_forward(test_x, parameters)\n",
    "    \n",
    "    y_pred = (AL > 0.5).astype(int)\n",
    "    \n",
    "    accuracy = (np.dot(test_y[0],y_pred[0]) + np.dot(1-test_y[0],1-y_pred[0]))/m\n",
    "    print(\"Accuracy: \", accuracy)\n",
    "    \n",
    "    return accuracy\n",
    "\n",
    "predictions_test = predict_Llayer(test_x, test_y, parameters)"
   ]
  }
 ],
 "metadata": {
  "kernelspec": {
   "display_name": "Python 3 (ipykernel)",
   "language": "python",
   "name": "python3"
  },
  "language_info": {
   "codemirror_mode": {
    "name": "ipython",
    "version": 3
   },
   "file_extension": ".py",
   "mimetype": "text/x-python",
   "name": "python",
   "nbconvert_exporter": "python",
   "pygments_lexer": "ipython3",
   "version": "3.11.4"
  }
 },
 "nbformat": 4,
 "nbformat_minor": 5
}
